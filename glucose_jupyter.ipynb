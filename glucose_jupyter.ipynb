{
 "cells": [
  {
   "cell_type": "markdown",
   "id": "a776deb9-1484-4228-b37b-eec1315112e9",
   "metadata": {},
   "source": [
    "## Glycemic control in critically patients with and without diabetes"
   ]
  },
  {
   "cell_type": "code",
   "execution_count": 1,
   "id": "a9c41923-4170-47f8-ad12-a0f5801aa8ec",
   "metadata": {},
   "outputs": [],
   "source": [
    "import pandas as pd\n",
    "import numpy as np\n",
    "import scipy\n",
    "import matplotlib\n",
    "import matplotlib.pyplot as plt\n",
    "import seaborn as sns\n",
    "\n",
    "%matplotlib inline"
   ]
  },
  {
   "cell_type": "code",
   "execution_count": null,
   "id": "795bdc9c-4484-4f53-a279-250a6afd9119",
   "metadata": {},
   "outputs": [],
   "source": [
    "import psycopg2 as pg\n",
    "connection = pg.connect(database=\"eicu\", user=\"postgres\", password=\"******\", host=\"127.0.0.1\", port=\"5432\") "
   ]
  },
  {
   "cell_type": "code",
   "execution_count": null,
   "id": "24e7c644-fc1c-4a66-8f11-bf4b020e6004",
   "metadata": {},
   "outputs": [],
   "source": [
    "# 1. patient\n",
    "query = \"\"\"\n",
    "select *\n",
    "from patient\n",
    "\"\"\"\n",
    "df_patient = pd.read_sql_query(query, con=connection)\n",
    "\n",
    "#2. admissiondrug\n",
    "query = \"\"\"\n",
    "select \n",
    "  admissiondrugid, patientunitstayid,\n",
    "  drugenteredoffset\n",
    "  , drugname\n",
    "from admissiondrug\n",
    "\"\"\"\n",
    "df_admissiondrug = pd.read_sql_query(query, con=connection)\n",
    "\n",
    "#3. pasthistory\n",
    "query = \"\"\"\n",
    "select \n",
    "  patientunitstayid, pasthistorypath\n",
    "from pasthistory\n",
    "\"\"\"\n",
    "df_pasthistory = pd.read_sql_query(query, con=connection)\n",
    "\n",
    "query = \"\"\"\n",
    "select patientunitstayid, activeupondischarge, diagnosisstring\n",
    "from diagnosis\n",
    "\"\"\"\n",
    "df_diagnosis = pd.read_sql_query(query, con=connection)\n",
    "\n",
    "# 4. admissiondx\n",
    "# To decide whether the patients' admission diagnosis was operative or non-operative\n",
    "# By looking for the answer of the statement:\n",
    "# \"admission diagnosis|Was the patient admitted from the O.R. or went to the O.R. within 4 hours of admission?|No\"\n",
    "# or \"admission diagnosis|Was the patient admitted from the O.R. or went to the O.R. within 4 hours of admission?|Yes\"\n",
    "query = \"\"\"\n",
    "select *\n",
    "from admissiondx\n",
    "WHERE admitdxpath LIKE '%O.R.%' \n",
    "\"\"\"\n",
    "df_admissiondx_operative = pd.read_sql_query(query, con=connection)\n",
    "\n",
    "query = \"\"\"\n",
    "select *\n",
    "from admissiondx\n",
    "WHERE admitdxpath LIKE '%Elective%' \n",
    "\"\"\"\n",
    "df_admissiondx_elective = pd.read_sql_query(query, con=connection)\n",
    "\n",
    "# 5. apacheApsVar, apachePredVar\n",
    "# apacheApsVar contains the variables used to calculate the Acute Physiology Score (APS) III for patients.\n",
    "query = \"\"\"\n",
    "select *\n",
    "from apacheApsVar\n",
    "\"\"\"\n",
    "df_apacheApsVar = pd.read_sql_query(query, con=connection)\n",
    "\n",
    "query = \"\"\"\n",
    "select *\n",
    "from apachePredVar\n",
    "\"\"\"\n",
    "df_apachePredVar = pd.read_sql_query(query, con=connection)\n",
    "\n",
    "# 6. apachePatientResult \n",
    "# Select only results from APAHCE IV instead of IVa\n",
    "# Including hospital and ICU mortality, hospital and ICU length of stays\n",
    "query = \"\"\"\n",
    "select *\n",
    "from apachePatientResult\n",
    "where apacheversion='IV';\n",
    "\"\"\"\n",
    "df_apachePatientResult = pd.read_sql_query(query, con=connection)\n",
    "\n",
    "# 7. lab & customlab\n",
    "# customlab contained some extra results for infrequent, less standardised laboratory tests\n",
    "query = \"\"\"\n",
    "select patientunitstayid, labname, labresultoffset, labresult, labmeasurenamesystem\n",
    "from lab\n",
    "\"\"\"\n",
    "df_lab = pd.read_sql_query(query, con=connection)\n",
    "query = \"\"\"\n",
    "select patientunitstayid, labotheroffset, labothername, labotherresult, labothervaluetext\n",
    "from customlab\n",
    "\"\"\"\n",
    "df_customlab = pd.read_sql_query(query, con=connection)\n",
    "\n",
    "# 8. treatment \n",
    "query = \"\"\"\n",
    "select *\n",
    "from treatment\n",
    "\"\"\"\n",
    "df_treatment = pd.read_sql_query(query, con=connection)\n",
    "\n",
    "# 9. medication\n",
    "query = \"\"\"\n",
    "select patientunitstayid, drugname, drugorderoffset\n",
    "from medication\n",
    "\"\"\"\n",
    "df_medication = pd.read_sql_query(query, con=connection)\n",
    "\n",
    "# 10.infusionDrug\n",
    "query = \"\"\"\n",
    "select patientunitstayid, infusionoffset, drugname, drugrate\n",
    "from infusiondrug\n",
    "\"\"\"\n",
    "df_infusionDrug = pd.read_sql_query(query, con = connection)"
   ]
  },
  {
   "cell_type": "code",
   "execution_count": 942,
   "id": "236a3f6f-1a73-4d46-821c-3b384f9d628c",
   "metadata": {},
   "outputs": [],
   "source": [
    "df_patient[\"age\"]=df_patient[\"age\"].replace(to_replace=['> 89',''], value=[90,np.NaN])\n",
    "df_patient[\"age\"]=df_patient[\"age\"].astype(float)"
   ]
  },
  {
   "cell_type": "code",
   "execution_count": 943,
   "id": "ad5bea8a-2507-4568-b7d3-833baf9f6ccb",
   "metadata": {},
   "outputs": [],
   "source": [
    "df_patient[\"hospitaldischargestatus_patient\"]=df_patient[\"hospitaldischargestatus\"].replace(to_replace=['Alive', 'Expired',''], value=[0, 1, -1])\n",
    "df_patient[\"unitdischargestatus_patient\"]=df_patient[\"unitdischargestatus\"].replace(to_replace=['Alive', 'Expired',''], value=[0, 1, -1])\n",
    "# Since this table was not the only source of information for discharge status, \n",
    "# we would keep the column hospitaldischargeststus and unitdischargestatus meanwhile\n",
    "# and the duplicate column would be dropped later"
   ]
  },
  {
   "cell_type": "code",
   "execution_count": null,
   "id": "1e3ae1a8-09cb-4d35-b73c-d0584db50299",
   "metadata": {},
   "outputs": [],
   "source": [
    "# pick the first ICU stay for each unique patient\n",
    "# Reference: http://github.com/MIT-LCP/eicu-code/issues/16\n",
    "df_uniquepatient_raw=df_patient.sort_values([\"uniquepid\", \"patienthealthsystemstayid\", \"unitvisitnumber\"]).groupby([\"uniquepid\"]).first()\n",
    "df_uniquepatient_raw.reset_index(inplace=True)\n",
    "print(df_uniquepatient_raw.shape) #corresponding to the number of unique patients\n",
    "\n",
    "#Removing unnecessary variables\n",
    "df_uniquepatient=df_uniquepatient_raw.drop(columns=[\"patienthealthsystemstayid\" ,\"uniquepid\", \"wardid\",  \"hospitaladmittime24\", \"unitadmittime24\", \"hospitaldischargeyear\", \"hospitaldischargetime24\", \"unitvisitnumber\", \"unitstaytype\", \"unitdischargetime24\", \"unitdischargelocation\", \"hospitaldischargelocation\"])"
   ]
  },
  {
   "cell_type": "code",
   "execution_count": 951,
   "id": "5d3c19da-36c4-4c63-84e3-6d374f90df93",
   "metadata": {},
   "outputs": [],
   "source": [
    "#Removing repeat ICU stays\n",
    "df_uniquepatient=df_uniquepatient[df_uniquepatient['unitadmitsource']!=\"Other ICU\"]\n",
    "df_uniquepatient=df_uniquepatient[df_uniquepatient['unitadmitsource']!=\"ICU\"]\n",
    "df_uniquepatient=df_uniquepatient[df_uniquepatient['unitadmitsource']!=\"ICU to SDU\"]"
   ]
  },
  {
   "cell_type": "markdown",
   "id": "02b5375c-ef9e-49b7-b3f3-205cba051ca9",
   "metadata": {},
   "source": [
    "Both bedside glucose measurement and laboratory glucose measurement would be selected."
   ]
  },
  {
   "cell_type": "code",
   "execution_count": null,
   "id": "f5a59566-e44b-426c-bb8f-0263737a7d9c",
   "metadata": {
    "tags": []
   },
   "outputs": [],
   "source": [
    "#Both bedside glucose measurement and laboratory glucose measurement would be selected.\n",
    "df_lab_glucose=df_lab[(df_lab['labname']=='bedside glucose')|(df_lab['labname']=='glucose')]\n",
    "\n",
    "#select results obtained during ICU stay only\n",
    "df_lab_glucose=df_lab_glucose[df_lab_glucose.labresultoffset>0] "
   ]
  },
  {
   "cell_type": "code",
   "execution_count": 958,
   "id": "8d7ffb8d-1a79-4644-ba30-df57afb8d3a3",
   "metadata": {},
   "outputs": [],
   "source": [
    "#Mortality\n",
    "df_uniquepatient=df_uniquepatient.merge(df_apachePatientResult[[\"patientunitstayid\", \"actualhospitalmortality\", \"actualicumortality\"]], on=\"patientunitstayid\", how=\"left\")\n",
    "df_uniquepatient[\"actualhospitalmortality\"]=df_uniquepatient[\"actualhospitalmortality\"].replace(to_replace=['ALIVE', 'EXPIRED',''], value=[0, 1,-1])\n",
    "df_uniquepatient[\"actualicumortality\"]=df_uniquepatient[\"actualicumortality\"].replace(to_replace=['ALIVE', 'EXPIRED',''], value=[0, 1,-1])\n",
    "\n",
    "# Extract hospital and icu discharge status from patient.csv and apachepatientresult.csv\n",
    "df_uniquepatient[\"hospitaldischargestatus\"]=df_uniquepatient[[\"hospitaldischargestatus_patient\",\"actualhospitalmortality\"]].max(axis=1)\n",
    "df_uniquepatient[\"unitdischargestatus\"]=df_uniquepatient[[\"unitdischargestatus_patient\",\"actualicumortality\"]].max(axis=1)\n",
    "#convert -1 back to nan\n",
    "df_uniquepatient[\"hospitaldischargestatus\"]=df_uniquepatient[\"hospitaldischargestatus\"].replace(to_replace=[0,1,-1], value=[0, 1,np.nan])\n",
    "df_uniquepatient[\"unitdischargestatus\"]=df_uniquepatient[\"unitdischargestatus\"].replace(to_replace=[0,1,-1], value=[0, 1,np.nan])\n",
    "\n",
    "# Remove duplicated columns\n",
    "df_uniquepatient=df_uniquepatient.drop(columns=[\"hospitaldischargestatus_patient\", \"unitdischargestatus_patient\", \"actualhospitalmortality\", \"actualicumortality\"])"
   ]
  },
  {
   "cell_type": "code",
   "execution_count": null,
   "id": "523a43be-6d7d-4240-80ce-ea30e9e52bc6",
   "metadata": {},
   "outputs": [],
   "source": [
    "#Excluding patients with no hospital mortality data (primary outcome)\n",
    "df_uniquepatient=df_uniquepatient[df_uniquepatient[\"hospitaldischargestatus\"].notnull()]"
   ]
  },
  {
   "cell_type": "code",
   "execution_count": 961,
   "id": "a0dc6e55-59f1-4715-819a-79424ffef390",
   "metadata": {},
   "outputs": [],
   "source": [
    "#LOS\n",
    "df_uniquepatient[\"icu_los\"]=df_uniquepatient[\"unitdischargeoffset\"]/1440 #convert to days\n",
    "df_uniquepatient[\"hospital_los\"]=(df_uniquepatient[\"hospitaldischargeoffset\"]-df_uniquepatient[\"hospitaladmitoffset\"])/1440\n",
    "df_uniquepatient=df_uniquepatient.drop(columns=[\"hospitaladmitoffset\", \"hospitaldischargeoffset\", \"unitdischargeoffset\"])"
   ]
  },
  {
   "cell_type": "markdown",
   "id": "f0c18ba8-82e2-4f08-b1e3-7205c86f26ba",
   "metadata": {},
   "source": [
    "Extracting the diagnosis of diabetes from tables\n",
    "* diagnosis\n",
    "* pasthistory\n",
    "* apachePredVar\n",
    "* admissiondrug\n",
    "\n",
    "HbA1c was not available from table *lab* and *customlab*"
   ]
  },
  {
   "cell_type": "code",
   "execution_count": null,
   "id": "d6449e7d-9082-4942-87b7-59aac6c05d96",
   "metadata": {},
   "outputs": [],
   "source": [
    "#1. diagnosis\n",
    "df_diagnosis=df_diagnosis[df_diagnosis[\"activeupondischarge\"]==True]\n",
    "df_diagnosis[\"diabetes\"]=df_diagnosis['diagnosisstring'].str.contains('diabetes mellitus') #limited to patient with diabetes\n",
    "\n",
    "#Create a record for the presence or absence of DM in each patientunitstayid\n",
    "df_diagnosis_DM=df_diagnosis.groupby(\"patientunitstayid\")[\"diabetes\"].sum()\n",
    "#convert to dataframe\n",
    "df_diagnosis_DM=pd.DataFrame(df_diagnosis_DM)\n",
    "df_diagnosis_DM.rename(columns={\"diabetes\":\"DMdiagnosis\"}, inplace=True)\n",
    "df_diagnosis_DM"
   ]
  },
  {
   "cell_type": "code",
   "execution_count": null,
   "id": "ddc73156-673e-414a-a22f-861299171520",
   "metadata": {},
   "outputs": [],
   "source": [
    "# 2. pasthistory\n",
    "df_pasthistory_DM=pd.DataFrame()\n",
    "df_pasthistory[\"IDDM\"]=df_pasthistory['pasthistorypath'].str.contains('insulin dependent diabetes')\n",
    "df_pasthistory_DM[\"IDDM\"]=df_pasthistory.groupby([\"patientunitstayid\"])[\"IDDM\"].sum()>0\n",
    "\n",
    "df_pasthistory[\"NIDDM_OHA\"]=df_pasthistory['pasthistorypath'].str.contains('Non-Insulin Dependent Diabetes/medication dependent')\n",
    "df_pasthistory_DM[\"NIDDM_OHA\"]=df_pasthistory.groupby([\"patientunitstayid\"])[\"NIDDM_OHA\"].sum()>0\n",
    "\n",
    "df_pasthistory[\"NIDDM_diet\"]=df_pasthistory['pasthistorypath'].str.contains('Non-Insulin Dependent Diabetes/non-medication dependent')\n",
    "df_pasthistory_DM[\"NIDDM_diet\"]=df_pasthistory.groupby([\"patientunitstayid\"])[\"NIDDM_diet\"].sum()>0"
   ]
  },
  {
   "cell_type": "code",
   "execution_count": 972,
   "id": "a08408a5-377f-4fa6-a62a-38a58f37c758",
   "metadata": {},
   "outputs": [],
   "source": [
    "# 3. apachePredVar\n",
    "df_apachePredVar[\"DM_apache\"]=df_apachePredVar[\"diabetes\"]"
   ]
  },
  {
   "cell_type": "code",
   "execution_count": 974,
   "id": "5defb0a2-e1e3-4ec2-8646-f5a62edb5c93",
   "metadata": {},
   "outputs": [],
   "source": [
    "# 4. admissiondrug\n",
    "#Based on the result of manual review of all the unique medications\n",
    "insulin_name= [\"NOVOLOG\", \"LANTUS\", \"INSULIN\", \"HUMULIN\", \"NOVOLIN\", \"LEVEMIR\", \"HUMALOG\",\"DETEMIR\"]\n",
    "OHA_name=[\"GLYBURIDE\", \"GLUCOPHAGE\", \"JANUMET\", \"GLIMEPIRIDE\", \"GLIPIZIDE\", \"GLUCOTROL\", \"METFORMIN\", \"GLYBURIDE/METFORMIN\", \\\n",
    "          \"AMARYL\", \"SITAGLIPTIN PHOSPHATE\", \"JANUVIA\", \"GLUCOTROL XL\", \"ACTOS\", \"GLUCOVANCE\", \"SAXAGLIPTIN HCL\", \"PIOGLITAZONE HCL\",\\\n",
    "          \"GLYBURIDE-METFORMIN\", \"CANAGLIFLOZIN\", \"LINAGLIPTIN\", \"ACTOPLUS MET\", \"GLUMETZA\", \"REPAGLINIDE\", \"DIABETA\", \"JARDIANCE\",\\\n",
    "          \"PIOGLITAZONE HCL/METFORMIN HCL\", \"INVOKAMET\", \"RIOMET\"]\n",
    "insulin = '|'.join(insulin_name)\n",
    "OHA = '|'.join(OHA_name)\n",
    "df_admissiondrug[\"insulin\"]=df_admissiondrug['drugname'].str.contains(insulin) \n",
    "df_admissiondrug[\"OHA\"]=df_admissiondrug['drugname'].str.contains(OHA) \n",
    "# GLP1 agonist VICTOZA 2-PAK / LIRAGLUTIDE was not included because 1) it is usually used with other diabetic medications/ insulin, 2) its indication also extends to weight management\n",
    "\n",
    "df_admission_DMmeds=pd.DataFrame()\n",
    "df_admission_DMmeds[\"insulin\"]= df_admissiondrug.groupby([\"patientunitstayid\"])[\"insulin\"].sum()>0\n",
    "df_admission_DMmeds[\"OHA\"]= df_admissiondrug.groupby([\"patientunitstayid\"])[\"OHA\"].sum()>0\n",
    "df_admission_DMmeds"
   ]
  },
  {
   "cell_type": "code",
   "execution_count": 977,
   "id": "71852d7b-bb96-4b2d-a9e7-1e5a7f96493d",
   "metadata": {},
   "outputs": [],
   "source": [
    "df_uniquepatient=df_uniquepatient.merge(df_diagnosis_DM, on='patientunitstayid', how='left')\n",
    "df_uniquepatient=df_uniquepatient.merge(df_pasthistory_DM, on='patientunitstayid', how='left')\n",
    "df_uniquepatient=df_uniquepatient.merge(df_admission_DMmeds, on='patientunitstayid', how='left')\n",
    "df_uniquepatient=df_uniquepatient.merge(df_apachePredVar[[\"DM_apache\", \"patientunitstayid\", \"ventday1\"]], on='patientunitstayid', how='left')\n",
    "\n",
    "# A patient is defined to have diabetes based on \n",
    "# the table diagnosis, the table pasthistory, and the table admissiondrug\n",
    "df_uniquepatient[\"diabetes\"]=(df_uniquepatient[\"DMdiagnosis\"]>0) | \\\n",
    "(df_uniquepatient[\"DM_apache\"]>0) |\\\n",
    "(df_uniquepatient[\"IDDM\"]) | \\\n",
    "(df_uniquepatient[\"NIDDM_OHA\"]) | \\\n",
    "(df_uniquepatient[\"NIDDM_diet\"]) | \\\n",
    "(df_uniquepatient[\"insulin\"]) |  \\\n",
    "(df_uniquepatient[\"OHA\"])"
   ]
  },
  {
   "cell_type": "code",
   "execution_count": null,
   "id": "1d015de7-8186-4f00-9d37-6518e89e0793",
   "metadata": {},
   "outputs": [],
   "source": [
    "# Numbers add up exist the number of patients with diabetes because of overlapping labelling\n",
    "# *1 Patients who were on insulin -> IDDM\n",
    "# *2 Patients who were on OHA but not insulin -> NIDDM on OHA\n",
    "# *3 Patients who were on diet but not insulin or OHA -> NIDDM on diet\n",
    "\n",
    "#Remove overlapping labels\n",
    "# 1. Changed all labelled NIDDM to False for whose who were on insulin\n",
    "df_uniquepatient.loc[df_uniquepatient[\"insulin\"]==True, \"NIDDM_OHA\"]=False\n",
    "df_uniquepatient.loc[df_uniquepatient[\"insulin\"]==True, \"NIDDM_diet\"]=False\n",
    "\n",
    "# 2. Changed all overlapping NIDDM and IDDM to IDDM \n",
    "df_uniquepatient.loc[df_uniquepatient[\"IDDM\"]==True, \"NIDDM_OHA\"]=False\n",
    "df_uniquepatient.loc[df_uniquepatient[\"IDDM\"]==True, \"NIDDM_diet\"]=False\n",
    "\n",
    "# 3. Remove duplicate label of NIDDM_diet in patients already taking OHA\n",
    "df_uniquepatient.loc[df_uniquepatient[\"NIDDM_OHA\"]==True, \"NIDDM_diet\"]=False\n",
    "\n",
    "#Recheck the diagnosis of DM\n",
    "df_uniquepatient[\"diabetes\"]=(df_uniquepatient[\"DMdiagnosis\"]>0) | \\\n",
    "(df_uniquepatient[\"DM_apache\"]>0) |\\\n",
    "(df_uniquepatient[\"IDDM\"]) | \\\n",
    "(df_uniquepatient[\"NIDDM_OHA\"]) | \\\n",
    "(df_uniquepatient[\"NIDDM_diet\"]) | \\\n",
    "(df_uniquepatient[\"insulin\"]) |  \\\n",
    "(df_uniquepatient[\"OHA\"])\n",
    "\n",
    "# Drop unnecessary columns\n",
    "df_uniquepatient=df_uniquepatient.drop(columns=[\"OHA\", \"insulin\", \"DMdiagnosis\", \"DM_apache\"])"
   ]
  },
  {
   "cell_type": "code",
   "execution_count": null,
   "id": "0ddb0f34-8365-4f38-a1b4-e35275ebf78b",
   "metadata": {},
   "outputs": [],
   "source": [
    "#Label diabetic patients who were neither labelled IDDM/ NIDDM as DM_unknownstatus\n",
    "df_uniquepatient.loc[df_uniquepatient[\"diabetes\"] == 1, \"DM_status\"] = \"DM\"\n",
    "df_uniquepatient.loc[df_uniquepatient[\"diabetes\"] == 0, \"DM_status\"] = \"No_DM\"\n",
    "df_uniquepatient.loc[df_uniquepatient[\"IDDM\"] == 1, \"DM_status\"] = \"IDDM\"\n",
    "df_uniquepatient.loc[df_uniquepatient[\"NIDDM_OHA\"] == 1, \"DM_status\"] = \"NIDDM_OHA\"\n",
    "df_uniquepatient.loc[df_uniquepatient[\"NIDDM_diet\"] == 1, \"DM_status\"] = \"NIDDM_diet\"\n",
    "df_uniquepatient.loc[df_uniquepatient[\"DM_status\"] == \"DM\", \"DM_status\"] = \"DM_unknownstatus\""
   ]
  },
  {
   "cell_type": "code",
   "execution_count": 985,
   "id": "a291d33e-3146-4ccc-b7b3-efc9673a56fe",
   "metadata": {},
   "outputs": [],
   "source": [
    "#Decide whether patients were admitted for medical or surgical diagnosis\n",
    "df_admissiondx_operative[\"operative\"]=df_admissiondx_operative[\"admitdxpath\"].replace \\\n",
    "(to_replace=['admission diagnosis|Was the patient admitted from the O.R. or went to the O.R. within 4 hours of admission?|No', \\\n",
    "             'admission diagnosis|Was the patient admitted from the O.R. or went to the O.R. within 4 hours of admission?|Yes'], \\\n",
    " value=['0', '1']).astype(float)\n",
    "df_uniquepatient=df_uniquepatient.merge(df_admissiondx_operative[[\"patientunitstayid\", \"operative\"]], on='patientunitstayid', how='left')"
   ]
  },
  {
   "cell_type": "code",
   "execution_count": null,
   "id": "9b0a460b-8d8b-48f9-b7d1-4a1577b1e983",
   "metadata": {},
   "outputs": [],
   "source": [
    "#Decide whether patients were admitted for elective operation or emergency operation\n",
    "df_admissiondx_elective[\"elective\"]=df_admissiondx_elective[\"admitdxpath\"].replace \\\n",
    "(to_replace=['admission diagnosis|Elective|No', \\\n",
    "             'admission diagnosis|Elective|Yes'], \\\n",
    " value=['0', '1']).astype(float)\n",
    "df_uniquepatient=df_uniquepatient.merge(df_admissiondx_elective[[\"patientunitstayid\", \"elective\"]], on='patientunitstayid', how='left')"
   ]
  },
  {
   "cell_type": "code",
   "execution_count": 991,
   "id": "4b7ed215-581d-48cd-a598-84e7a0dcdfc9",
   "metadata": {},
   "outputs": [],
   "source": [
    "#Include APACHE IV scores\n",
    "df_uniquepatient=df_uniquepatient.merge(df_apachePatientResult[[\"patientunitstayid\", \"apachescore\"]], on=\"patientunitstayid\", how=\"left\")"
   ]
  },
  {
   "cell_type": "code",
   "execution_count": 993,
   "id": "ee6392d0-9ecf-4eb9-99f0-0b9d611c7ef7",
   "metadata": {},
   "outputs": [],
   "source": [
    "#Determine whether patients who put on inotropes/ vasopressors from tables\n",
    "#1) infusionDrug\n",
    "inotropevasopressor_name=['milrinone', 'norepinephrine', 'vasopressin', 'epinephrine', 'dopamine', 'dobutamine', 'dobutrex', 'levophed']\n",
    "inotropevasopressor = '|'.join(inotropevasopressor_name)\n",
    "df_infusionDrug[\"inotropevasopressor\"]=df_infusionDrug[\"drugname\"].str.lower().str.contains(inotropevasopressor)\n",
    "\n",
    "#2) treatment\n",
    "inotropevasopressor_name=['inotropic agent', 'vasopressors']\n",
    "inotropevasopressor= '|'.join(inotropevasopressor_name)\n",
    "df_treatment[\"treatment_inotropevasopressor\"]=df_treatment['treatmentstring'].str.contains(inotropevasopressor) \n",
    "\n",
    "df_treatment_filtered[\"treatment_inotropevasopressor\"]=df_treatment.groupby([\"patientunitstayid\"])[\"treatment_inotropevasopressor\"].sum()>0\n",
    "df_treatment_filtered=pd.DataFrame(df_treatment_filtered)\n",
    "\n",
    "# Merging data into df_uniquepatient\n",
    "df_uniquepatient=df_uniquepatient.merge(df_treatment_filtered, on='patientunitstayid', how='left')\n",
    "df_uniquepatient=df_uniquepatient.merge(df_infusionDrug_filtered_inotropevasopressor, on='patientunitstayid', how='left')\n",
    "# extracting data fro minfusiondrug and treatment table\n",
    "df_uniquepatient[\"inotropevasopressor\"]=(df_uniquepatient[\"infusion_inotropevasopressor\"]) | (df_uniquepatient[\"treatment_inotropevasopressor\"])\n",
    "# Drop unnecessary columns\n",
    "df_uniquepatient.drop(columns=[\"infusion_inotropevasopressor\", \"treatment_inotropevasopressor\"], inplace=True)"
   ]
  },
  {
   "cell_type": "code",
   "execution_count": null,
   "id": "44284776-3c1c-4ae8-b5c0-ebb51ec05de9",
   "metadata": {},
   "outputs": [],
   "source": [
    "#Labelling trauma patients\n",
    "df_uniquepatient[\"trauma\"]=df_uniquepatient[\"apacheadmissiondx\"].str.lower().str.contains('trauma', na=False) \n",
    "\n",
    "#Exclude non-trauma\n",
    "df_uniquepatient[\"trauma\"][df_uniquepatient['apacheadmissiondx'].str.contains(\"see\") == True]= False\n",
    "#Example: Fracture-pathological, non-union, non-traumatic, for fractures due to trauma see Trauma\n",
    "df_uniquepatient[\"trauma\"][df_uniquepatient['apacheadmissiondx'].str.contains(\"non-traumatic\") == True]= False\n",
    "#Examples: Chest/multiple trauma', 'Amputation (non-traumatic)"
   ]
  },
  {
   "cell_type": "code",
   "execution_count": null,
   "id": "27ebade4-34ee-4f6d-9532-f463ccf669bd",
   "metadata": {},
   "outputs": [],
   "source": [
    "#Labelling DKA and HONK\n",
    "df_uniquepatient[\"DKA\"]=df_uniquepatient[\"apacheadmissiondx\"].str.lower().str.contains('diabetic ketoacidosis', na=False) \n",
    "df_uniquepatient[\"HONK\"]=df_uniquepatient[\"apacheadmissiondx\"].str.lower().str.contains('diabetic hyperglycemic hyperosmolar', na=False) "
   ]
  },
  {
   "cell_type": "code",
   "execution_count": null,
   "id": "2e9561b8-2da9-40d9-9134-b8b82cae6c47",
   "metadata": {},
   "outputs": [],
   "source": [
    "#Calculate the mean, sd, cv, and find the maximum and minimum glucose level\n",
    "#the mean glucose from bedside glucose measurement and laboratory glucose measurement was also calculated\n",
    "df_glucose=pd.DataFrame()\n",
    "df_lab_glucose.dropna(inplace=True)\n",
    "df_glucose[\"glucose_mean\"] = df_lab_glucose.groupby([\"patientunitstayid\"])[\"labresult\"].mean()\n",
    "df_glucose[\"glucose_sd\"] = df_lab_glucose.groupby([\"patientunitstayid\"])[\"labresult\"].std()\n",
    "df_glucose[\"glucose_cv\"] = df_lab_glucose.groupby([\"patientunitstayid\"])[\"labresult\"].std()/ df_lab_glucose.groupby([\"patientunitstayid\"])[\"labresult\"].mean()*100\n",
    "df_glucose[\"glucose_max\"] = df_lab_glucose.groupby([\"patientunitstayid\"])[\"labresult\"].max()\n",
    "df_glucose[\"glucose_min\"] = df_lab_glucose.groupby([\"patientunitstayid\"])[\"labresult\"].min()\n",
    "df_glucose[\"count\"] = df_lab_glucose.groupby([\"patientunitstayid\"])[\"labresult\"].count()\n",
    "df_glucose[\"bedsideglucose_mean\"] = df_lab_glucose[df_lab_glucose['labname']=='bedside glucose'].groupby([\"patientunitstayid\"])[\"labresult\"].mean()\n",
    "df_glucose[\"labglucose_mean\"] = df_lab_glucose[df_lab_glucose['labname']=='glucose'].groupby([\"patientunitstayid\"])[\"labresult\"].mean()\n",
    "\n",
    "# merge with df_uniquepatient\n",
    "df_uniquepatient=df_uniquepatient.merge(df_glucose, on=\"patientunitstayid\", how=\"left\")"
   ]
  },
  {
   "cell_type": "code",
   "execution_count": null,
   "id": "d006f8f1-c79d-4e46-afc6-c24b2d139062",
   "metadata": {},
   "outputs": [],
   "source": [
    "#Calculate the time-weighted average mean glucose for each patientunitid\n",
    "grouped = df_lab_glucose.sort_values(['patientunitstayid','labresultoffset']).groupby(\"patientunitstayid\", as_index = False)\n",
    "grouped_index = grouped.apply(lambda x: x.reset_index(drop = True)).reset_index()\n",
    "grouped_index.set_index(['level_0', 'level_1'], inplace=True)\n",
    "\n",
    "df_twamean=pd.DataFrame()\n",
    "patientid=[]\n",
    "twamean=[]\n",
    "for i in grouped_index.index.levels[0]: #each patientunitstayid\n",
    "    mean=0\n",
    "    time_diff=0\n",
    "    twa=0\n",
    "    auc=0\n",
    "    min_idx=grouped_index.loc[i].index.min()\n",
    "    max_idx=grouped_index.loc[i].index.max()\n",
    "    for j in range(max_idx): \n",
    "        #each result within one patientunitstayid sorted by labresultoffset\n",
    "            mean=(grouped_index.loc[i,j][\"labresult\"]+grouped_index.loc[i,j+1][\"labresult\"])\n",
    "            time_diff=grouped_index.loc[i,j+1][\"labresultoffset\"]-grouped_index.loc[i,j][\"labresultoffset\"]\n",
    "            # labresultoffset in munutes\n",
    "            auc+=(mean*time_diff)\n",
    "    auc=auc/2\n",
    "    twa=auc/(grouped_index.loc[i,max_idx][\"labresultoffset\"]-grouped_index.loc[i,min_idx][\"labresultoffset\"])\n",
    "    patientid.append(grouped_index.loc[i,0][\"patientunitstayid\"])\n",
    "    twamean.append(twa)\n",
    "patientid=pd.Series(patientid, name='patientunitstayid')\n",
    "twamean=pd.Series(twamean, name='glucose_twamean')        \n",
    "df_twamean=pd.concat([patientid, twamean], axis=1)\n",
    "df_uniquepatient=df_uniquepatient.merge(df_twamean, on=\"patientunitstayid\", how=\"left\")       "
   ]
  },
  {
   "cell_type": "code",
   "execution_count": null,
   "id": "80b7aa36-13e2-43fa-a1f1-4a1d6ae3d421",
   "metadata": {},
   "outputs": [],
   "source": [
    "#Exclude patients with less than 2 glucose measurements\n",
    "df_uniquepatient=df_uniquepatient.dropna(subset=['glucose_twamean'])"
   ]
  },
  {
   "cell_type": "code",
   "execution_count": 1037,
   "id": "c1b10b5a-b758-4cf3-a4f2-95f1a687c6f3",
   "metadata": {
    "tags": []
   },
   "outputs": [],
   "source": [
    "#Calculate and categorise BMI\n",
    "df_uniquepatient['BMI']=df_uniquepatient[\"admissionweight\"]/ ((df_patient[\"admissionheight\"]/100)**2)\n",
    "df_uniquepatient.loc[df_uniquepatient[\"BMI\"] <18.5, \"BMI_cat\"] = \"<18.5\"\n",
    "df_uniquepatient.loc[(df_uniquepatient[\"BMI\"] >=18.5) & (df_uniquepatient[\"BMI\"] <25), \"BMI_cat\"] = \"18.5-25\"\n",
    "df_uniquepatient.loc[(df_uniquepatient[\"BMI\"] >=25) & (df_uniquepatient[\"BMI\"] <30), \"BMI_cat\"] = \"25-<30\"\n",
    "df_uniquepatient.loc[(df_uniquepatient[\"BMI\"] >=30) & (df_uniquepatient[\"BMI\"] <35), \"BMI_cat\"] = \"30-<35\"\n",
    "df_uniquepatient.loc[(df_uniquepatient[\"BMI\"] >=35) & (df_uniquepatient[\"BMI\"] <40), \"BMI_cat\"] = \"35-<40\"\n",
    "df_uniquepatient.loc[df_uniquepatient[\"BMI\"] >=40, \"BMI_cat\"] = \">=40\""
   ]
  },
  {
   "cell_type": "code",
   "execution_count": null,
   "id": "83bc2c8c-22d5-4b67-bed3-72d60a023fa5",
   "metadata": {},
   "outputs": [],
   "source": [
    "#Exclude DKA and HONK patients\n",
    "df_uniquepatient=df_uniquepatient[df_uniquepatient[\"DKA\"]==0]\n",
    "df_uniquepatient=df_uniquepatient[df_uniquepatient[\"HONK\"]==0]"
   ]
  },
  {
   "cell_type": "code",
   "execution_count": null,
   "id": "d22862aa-cfb3-4cff-97b1-b904f0f9b0ca",
   "metadata": {},
   "outputs": [],
   "source": [
    "#Exclude ICU LOS<2 days\n",
    "df_uniquepatient_morethan2=df_uniquepatient[df_uniquepatient[\"icu_los\"]>=2]"
   ]
  },
  {
   "cell_type": "code",
   "execution_count": null,
   "id": "1eed433f-d228-4aa0-829b-4e05057bf83c",
   "metadata": {},
   "outputs": [],
   "source": [
    "#Preparing data for statistical modelling in R\n",
    "from sklearn.model_selection import train_test_split\n",
    "X_train, X_test, _, _ = train_test_split(df_uniquepatient_morethan2_nonan, df_uniquepatient_morethan2_nonan[\"hospitaldischargestatus\"], test_size=0.3, random_state=42, stratify=df_uniquepatient_morethan2_nonan[\"hospitaldischargestatus\"])\n",
    "X_train.to_csv(\"X_train.csv\")\n",
    "X_train_DM=X_train[X_train[\"diabetes\"]==1]\n",
    "X_train_DM.to_csv(\"X_train_DM.csv\")\n",
    "X_train_nonDM=X_train[X_train[\"diabetes\"]==0]\n",
    "X_train_nonDM.to_csv(\"X_train_nonDM.csv\")\n",
    "\n",
    "X_test_DM=X_test[X_test[\"diabetes\"]==1]\n",
    "X_test_nonDM=X_test[X_test[\"diabetes\"]==0]\n",
    "X_test_DM.to_csv(\"X_test_DM.csv\")\n",
    "X_test_nonDM.to_csv(\"X_test_nonDM.csv\")"
   ]
  }
 ],
 "metadata": {
  "kernelspec": {
   "display_name": "Python 3",
   "language": "python",
   "name": "python3"
  },
  "language_info": {
   "codemirror_mode": {
    "name": "ipython",
    "version": 3
   },
   "file_extension": ".py",
   "mimetype": "text/x-python",
   "name": "python",
   "nbconvert_exporter": "python",
   "pygments_lexer": "ipython3",
   "version": "3.7.11"
  }
 },
 "nbformat": 4,
 "nbformat_minor": 5
}
